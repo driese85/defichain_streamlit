{
 "cells": [
  {
   "cell_type": "code",
   "execution_count": 2,
   "id": "c01ce6a1",
   "metadata": {},
   "outputs": [
    {
     "data": {
      "text/plain": [
       "True"
      ]
     },
     "execution_count": 2,
     "metadata": {},
     "output_type": "execute_result"
    }
   ],
   "source": [
    "import os\n",
    "import pandas as pd\n",
    "import sqlalchemy\n",
    "\n",
    "from dotenv import load_dotenv\n",
    "\n",
    "# load environment variables\n",
    "load_dotenv()"
   ]
  },
  {
   "cell_type": "code",
   "execution_count": 3,
   "id": "da9644db",
   "metadata": {},
   "outputs": [],
   "source": [
    "def connect_engine(url):\n",
    "    engine = sqlalchemy.create_engine(url)\n",
    "    return engine\n",
    "\n",
    "def get_data(sql, engine):\n",
    "    \n",
    "    df = pd.read_sql(sql, con=engine)\n",
    "    return df"
   ]
  },
  {
   "cell_type": "code",
   "execution_count": 4,
   "id": "3fdd4505",
   "metadata": {},
   "outputs": [],
   "source": [
    "connection_url = f\"postgresql://{os.getenv('POSTGRESQL_USER')}:{os.getenv('POSTGRESQL_PW')}@{os.getenv('POSTGRESQL_IP')}/{os.getenv('POSTGRESQL_DB')}\"\n",
    "\n",
    "engine = connect_engine(connection_url)\n",
    "sql_vault = \"\"\"\n",
    "    select collateral_ratio, collateral_value, loan_value\n",
    "    from vaults\n",
    "    order by created_at desc limit 1;\n",
    "    \"\"\"\n",
    "df = get_data(sql_vault, engine)"
   ]
  },
  {
   "cell_type": "code",
   "execution_count": 5,
   "id": "7e603679",
   "metadata": {},
   "outputs": [
    {
     "data": {
      "text/plain": [
       "36227.85"
      ]
     },
     "execution_count": 5,
     "metadata": {},
     "output_type": "execute_result"
    }
   ],
   "source": [
    "df.iloc[0,1]"
   ]
  },
  {
   "cell_type": "code",
   "execution_count": 6,
   "id": "e73995e4",
   "metadata": {},
   "outputs": [
    {
     "name": "stdout",
     "output_type": "stream",
     "text": [
      "AAPL\n",
      "CS\n",
      "DFI\n",
      "DUSD\n",
      "LTC\n",
      "NVDA\n",
      "PLTR\n"
     ]
    }
   ],
   "source": [
    "# query to get current token holdings in the wallet\n",
    "sql_tokens = \"\"\"\n",
    "    select distinct on (dt1.token_id) dt1.token_id, dt1.symbol as token_symbol, dt1.islps, amount, dt2.symbol as tokena_symbol, dt3.symbol as tokenb_symbol, tokena_reserve, tokenb_reserve, total_liquidity_token\n",
    "    from defichain_tokens dt1\n",
    "    left join defichain_tokens dt2 on dt1.tokena_id=dt2.token_id\n",
    "    left join defichain_tokens dt3 on dt1.tokenb_id=dt3.token_id\n",
    "    inner join defichain_holdings dh on dh.token_id=dt1.token_id\n",
    "    order by dt1.token_id, dh.created_at desc;\n",
    "    \"\"\"\n",
    "\n",
    "df_tokens = get_data(sql_tokens, engine)\n",
    "df_tokens[\"tokena_amount\"] = df_tokens[\"amount\"] / df_tokens[\"total_liquidity_token\"] * df_tokens[\"tokena_reserve\"]\n",
    "df_tokens[\"tokenb_amount\"] = df_tokens[\"amount\"] / df_tokens[\"total_liquidity_token\"] * df_tokens[\"tokenb_reserve\"]\n",
    "df_tokena = df_tokens[[\"tokena_symbol\", \"tokena_amount\"]].groupby('tokena_symbol').sum().reset_index().rename(columns={'tokena_symbol': 'symbol', 'tokena_amount': 'amount'})\n",
    "df_tokenb = df_tokens[[\"tokenb_symbol\", \"tokenb_amount\"]].groupby('tokenb_symbol').sum().reset_index().rename(columns={'tokenb_symbol': 'symbol', 'tokenb_amount': 'amount'})\n",
    "df_token_wallet = df_tokens[df_tokens[\"islps\"] == False][[\"token_symbol\", \"amount\"]].rename(columns={'token_symbol': 'symbol'})\n",
    "df_token_all = pd.concat([df_tokena, df_tokenb, df_token_wallet]).groupby('symbol').sum()\n",
    "for idx in df_token_all.index:\n",
    "    print(idx)"
   ]
  },
  {
   "cell_type": "code",
   "execution_count": 7,
   "id": "d18e7813",
   "metadata": {},
   "outputs": [
    {
     "data": {
      "text/plain": [
       "0.48512864"
      ]
     },
     "execution_count": 7,
     "metadata": {},
     "output_type": "execute_result"
    }
   ],
   "source": [
    "sql_vault = \"\"\"\n",
    "    with vault_CTE (id, created_at, collateral_ratio, collateral_value, loan_value)\n",
    "    as\n",
    "    (\n",
    "        select id, created_at, collateral_ratio, collateral_value, loan_value\n",
    "        from vaults\n",
    "        order by created_at desc limit 1\n",
    "    )\n",
    "    select id, vault_CTE.created_at, vault_amounts.token_id, name, symbol, token_type, amount, active_price, next_price\n",
    "    from vault_CTE\n",
    "    inner join vault_amounts on vault_CTE.id = vault_amounts.vault_id\n",
    "    inner join defichain_tokens on vault_amounts.token_id=defichain_tokens.token_id;\n",
    "    \"\"\"\n",
    "df_vault = get_data(sql_vault, engine)\n",
    "active_dfi_price = df_vault[df_vault[\"token_id\"] == 0].active_price.iloc[0]\n",
    "active_dfi_price\n",
    "# df[\"active_value\"] = df[\"amount\"] * df[\"active_price\"]\n",
    "# df[\"next_value\"] = df[\"amount\"] * df[\"next_price\"]\n",
    "# df_vault_details = df.groupby(\"token_type\").sum()\n",
    "# df_vault_details.reset_index(inplace=True)\n",
    "# print(df_vault_details[df_vault_details[\"token_type\"] == 'collateral'].next_value.iloc[0] - df_vault_details[df_vault_details[\"token_type\"] == 'collateral'].active_value.iloc[0])\n",
    "# df_vault_details"
   ]
  },
  {
   "cell_type": "code",
   "execution_count": 8,
   "id": "c43ba211",
   "metadata": {},
   "outputs": [
    {
     "data": {
      "text/html": [
       "<div>\n",
       "<style scoped>\n",
       "    .dataframe tbody tr th:only-of-type {\n",
       "        vertical-align: middle;\n",
       "    }\n",
       "\n",
       "    .dataframe tbody tr th {\n",
       "        vertical-align: top;\n",
       "    }\n",
       "\n",
       "    .dataframe thead th {\n",
       "        text-align: right;\n",
       "    }\n",
       "</style>\n",
       "<table border=\"1\" class=\"dataframe\">\n",
       "  <thead>\n",
       "    <tr style=\"text-align: right;\">\n",
       "      <th></th>\n",
       "      <th>id</th>\n",
       "      <th>created_at</th>\n",
       "      <th>token_id</th>\n",
       "      <th>name</th>\n",
       "      <th>symbol</th>\n",
       "      <th>token_type</th>\n",
       "      <th>amount</th>\n",
       "      <th>active_price</th>\n",
       "      <th>next_price</th>\n",
       "    </tr>\n",
       "  </thead>\n",
       "  <tbody>\n",
       "    <tr>\n",
       "      <th>0</th>\n",
       "      <td>2320</td>\n",
       "      <td>2022-12-05 19:30:04.449693+00:00</td>\n",
       "      <td>0</td>\n",
       "      <td>Default Defi token</td>\n",
       "      <td>DFI</td>\n",
       "      <td>collateral</td>\n",
       "      <td>32196.664</td>\n",
       "      <td>0.485129</td>\n",
       "      <td>0.485282</td>\n",
       "    </tr>\n",
       "    <tr>\n",
       "      <th>1</th>\n",
       "      <td>2320</td>\n",
       "      <td>2022-12-05 19:30:04.449693+00:00</td>\n",
       "      <td>15</td>\n",
       "      <td>Decentralized USD</td>\n",
       "      <td>DUSD</td>\n",
       "      <td>collateral</td>\n",
       "      <td>17173.607</td>\n",
       "      <td>1.000000</td>\n",
       "      <td>1.000000</td>\n",
       "    </tr>\n",
       "  </tbody>\n",
       "</table>\n",
       "</div>"
      ],
      "text/plain": [
       "     id                       created_at  token_id                name symbol  \\\n",
       "0  2320 2022-12-05 19:30:04.449693+00:00         0  Default Defi token    DFI   \n",
       "1  2320 2022-12-05 19:30:04.449693+00:00        15   Decentralized USD   DUSD   \n",
       "\n",
       "   token_type     amount  active_price  next_price  \n",
       "0  collateral  32196.664      0.485129    0.485282  \n",
       "1  collateral  17173.607      1.000000    1.000000  "
      ]
     },
     "execution_count": 8,
     "metadata": {},
     "output_type": "execute_result"
    }
   ],
   "source": [
    "df_coll = df_vault[df_vault[\"token_type\"] == 'collateral']\n",
    "df_coll"
   ]
  },
  {
   "cell_type": "code",
   "execution_count": 9,
   "id": "2f0e4f07",
   "metadata": {},
   "outputs": [
    {
     "name": "stdout",
     "output_type": "stream",
     "text": [
      "2022-12-04 19:35:06\n"
     ]
    },
    {
     "data": {
      "text/plain": [
       "0.4770983"
      ]
     },
     "execution_count": 9,
     "metadata": {},
     "output_type": "execute_result"
    }
   ],
   "source": [
    "# query to get 24 hours worth of DFI dex prices\n",
    "from datetime import datetime, timedelta\n",
    "import pytz\n",
    "# query to get 24 hours worth of DFI dex prices\n",
    "\n",
    "d = (datetime.now(pytz.utc) - timedelta(days=1)).strftime(\"%Y-%m-%d %H:%M:%S\")\n",
    "print(d)\n",
    "sql_dfi_prices = f\"\"\"\n",
    "    select created_at, active_price\n",
    "    from vault_amounts\n",
    "    where token_id = 0 and created_at > '{d}'\n",
    "    order by created_at desc;\n",
    "    \"\"\"\n",
    "df_dfi_dex_prices_24h = get_data(sql_dfi_prices, engine)\n",
    "df_dfi_dex_prices_24h.active_price.iloc[-1]"
   ]
  }
 ],
 "metadata": {
  "kernelspec": {
   "display_name": "Python 3.10.6 ('defichain_dashboard')",
   "language": "python",
   "name": "python3"
  },
  "language_info": {
   "codemirror_mode": {
    "name": "ipython",
    "version": 3
   },
   "file_extension": ".py",
   "mimetype": "text/x-python",
   "name": "python",
   "nbconvert_exporter": "python",
   "pygments_lexer": "ipython3",
   "version": "3.10.6"
  },
  "vscode": {
   "interpreter": {
    "hash": "90701c5180a11f131d053c6ea8276419069103c9a5401f84a1f330ac02be452f"
   }
  }
 },
 "nbformat": 4,
 "nbformat_minor": 5
}
